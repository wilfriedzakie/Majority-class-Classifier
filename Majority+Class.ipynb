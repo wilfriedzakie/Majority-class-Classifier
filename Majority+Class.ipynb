{
 "cells": [
  {
   "cell_type": "markdown",
   "metadata": {},
   "source": [
    "# Import Libraries"
   ]
  },
  {
   "cell_type": "code",
   "execution_count": 1,
   "metadata": {
    "collapsed": true
   },
   "outputs": [],
   "source": [
    "import matplotlib.pyplot as plt\n",
    "import numpy as np\n",
    "from sklearn import datasets\n",
    "from sklearn.metrics import accuracy_score\n",
    "from sklearn import metrics\n",
    "import pandas as pd"
   ]
  },
  {
   "cell_type": "markdown",
   "metadata": {},
   "source": [
    "# Load Dataset"
   ]
  },
  {
   "cell_type": "code",
   "execution_count": 333,
   "metadata": {},
   "outputs": [
    {
     "name": "stdout",
     "output_type": "stream",
     "text": [
      "(168,)\n"
     ]
    }
   ],
   "source": [
    "boston = datasets.load_wine()\n",
    "iris_X = boston.data\n",
    "iris_y = boston.target #Les labels associés à chaque enregistrement # target[0] est le label de iris['data'][0]\n",
    "np.unique( iris_y )\n",
    "\n",
    "np.random.seed (2)\n",
    "indices = np.random.permutation ( len ( iris_X ) )\n",
    "iris_X_train = iris_X [ indices [: -10]]\n",
    "iris_y_train = iris_y [ indices [: -10]]\n",
    "iris_X_test = iris_X [ indices [ -10:]]\n",
    "iris_y_test = iris_y [ indices [ - 10:]]\n",
    "\n",
    "print(iris_y_train.shape)"
   ]
  },
  {
   "cell_type": "markdown",
   "metadata": {},
   "source": [
    "# Majority Class Classifier "
   ]
  },
  {
   "cell_type": "markdown",
   "metadata": {},
   "source": [
    "This class contains 3 methods: __init__(self), fit(self,X,y) and predict(self,X).\n",
    "\n",
    "The first method is the class constructor containing dataframe. That dataframe contains each class and their occurence.\n",
    "\n",
    "The second one fit(self,X,y) build the model. It first list the target classes in 'output' then for each target class it will count the number of occurence in the data set and store the class as well as their frequency in the dataframe 'self.frequency'\n",
    "\n",
    "The third method 'predict(self,X)' will find the more frequent class and for all input testing data it will predict that class \n"
   ]
  },
  {
   "cell_type": "code",
   "execution_count": 364,
   "metadata": {},
   "outputs": [],
   "source": [
    "class Majority_Classifier():\n",
    "    \n",
    "    def __init__(self):\n",
    "        self.frequency=pd.DataFrame(columns=['Class','frequency'])\n",
    "    \n",
    "    def fit(self,X,y):\n",
    "        data=X\n",
    "        output = []\n",
    "        for x in y:\n",
    "            if x not in output:\n",
    "                output.append(x)\n",
    "        i=0\n",
    "        for class_name in output:\n",
    "            freq=0\n",
    "            for val in y:\n",
    "                if (val == class_name):\n",
    "                    freq=freq+1\n",
    "            self.frequency.loc[i] = [class_name,freq]\n",
    "            i=i+1\n",
    "            \n",
    "        return self.frequency\n",
    "        \n",
    "    def predict(self,X):\n",
    "        y=[]\n",
    "        i=0;\n",
    "        q=self.frequency.loc[self.frequency['frequency'] == self.frequency['frequency'].max()]\n",
    "        q=q.reset_index(drop=True)\n",
    "        for dat in X:\n",
    "            y.append(q.get_value(index=0, col='Class'))\n",
    "        print('Class occurences\\n')\n",
    "        print(self.frequency)\n",
    "        return y"
   ]
  },
  {
   "cell_type": "markdown",
   "metadata": {},
   "source": [
    "# Prediction of Classes"
   ]
  },
  {
   "cell_type": "code",
   "execution_count": 371,
   "metadata": {},
   "outputs": [
    {
     "name": "stdout",
     "output_type": "stream",
     "text": [
      "Class occurences\n",
      "\n",
      "  Class frequency\n",
      "0     0        55\n",
      "1     2        46\n",
      "2     1        67\n",
      "\n",
      "Prediction Class\n",
      "\n",
      "[1, 1, 1, 1, 1, 1, 1, 1, 1, 1]\n",
      "[1 2 0 1 1 0 0 1 0 2]\n",
      "\n",
      "Accuracy score: 0.400 Percent\n"
     ]
    }
   ],
   "source": [
    "mcj=Majority_Classifier()\n",
    "mcj.fit(iris_X_train,iris_y_train)\n",
    "y_pred=mcj.predict(iris_X_test)\n",
    "print('\\nPrediction Class\\n')\n",
    "print(y_pred)\n",
    "print(iris_y_test)\n",
    "print('\\nAccuracy score: %.3f Percent'%accuracy_score(iris_y_test,y_pred))"
   ]
  }
 ],
 "metadata": {
  "kernelspec": {
   "display_name": "Python 3",
   "language": "python",
   "name": "python3"
  },
  "language_info": {
   "codemirror_mode": {
    "name": "ipython",
    "version": 3
   },
   "file_extension": ".py",
   "mimetype": "text/x-python",
   "name": "python",
   "nbconvert_exporter": "python",
   "pygments_lexer": "ipython3",
   "version": "3.6.2"
  }
 },
 "nbformat": 4,
 "nbformat_minor": 2
}
